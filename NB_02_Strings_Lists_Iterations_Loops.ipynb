{
  "nbformat": 4,
  "nbformat_minor": 0,
  "metadata": {
    "colab": {
      "name": "NB_02_Strings_Lists_Iterations_Loops.ipynb",
      "provenance": [],
      "collapsed_sections": [],
      "include_colab_link": true
    },
    "kernelspec": {
      "name": "python3",
      "display_name": "Python 3"
    },
    "language_info": {
      "name": "python"
    }
  },
  "cells": [
    {
      "cell_type": "markdown",
      "metadata": {
        "id": "view-in-github",
        "colab_type": "text"
      },
      "source": [
        "<a href=\"https://colab.research.google.com/github/priyankavunnam224/MyProject/blob/master/NB_02_Strings_Lists_Iterations_Loops.ipynb\" target=\"_parent\"><img src=\"https://colab.research.google.com/assets/colab-badge.svg\" alt=\"Open In Colab\"/></a>"
      ]
    },
    {
      "cell_type": "markdown",
      "source": [
        "## Practice Notebook"
      ],
      "metadata": {
        "id": "12wF6gUYT_We"
      }
    },
    {
      "cell_type": "markdown",
      "source": [
        "## Strings\n",
        "\n",
        "A string is a series of characters. In Python, anything inside quotes is a string. And you can use either single quotes or double quotes\n",
        "\n",
        "For more info, refer [here](https://www.w3schools.com/python/python_strings.asp)."
      ],
      "metadata": {
        "id": "bPhqu4WmXbxC"
      }
    },
    {
      "cell_type": "markdown",
      "source": [
        "Exercise 1:\n",
        "\n",
        "Declare the values of a string variable to be \"she enquired, \"What help do you want from me?\" to her neighbour\"\n",
        "\n",
        "Print the string."
      ],
      "metadata": {
        "id": "dN-JN2GeYNzP"
      }
    },
    {
      "cell_type": "code",
      "source": [
        "comm = 'she enquired, \"What help do you want from me?\" to her neighbour.'\n",
        "print(comm)"
      ],
      "metadata": {
        "id": "PvmSKSuCYAzn",
        "outputId": "15bd5dd9-8d8c-4d4d-9ec3-54f1d683d11f",
        "colab": {
          "base_uri": "https://localhost:8080/"
        }
      },
      "execution_count": 4,
      "outputs": [
        {
          "output_type": "stream",
          "name": "stdout",
          "text": [
            "she enquired, \"What help do you want from me?\" to her neighbour.\n"
          ]
        }
      ]
    },
    {
      "cell_type": "markdown",
      "source": [
        "Exercise 2:\n",
        "\n",
        "Declare the values of a string variable to be \"I need Tables, Chairs, Cupboards\", in double qoutes. \n",
        "\n",
        "Print the string."
      ],
      "metadata": {
        "id": "_5P3baVHXixq"
      }
    },
    {
      "cell_type": "code",
      "execution_count": 7,
      "metadata": {
        "id": "TRkcTF71T1PO",
        "outputId": "6204949e-0492-4755-e9c1-528542c4a244",
        "colab": {
          "base_uri": "https://localhost:8080/"
        }
      },
      "outputs": [
        {
          "output_type": "stream",
          "name": "stdout",
          "text": [
            "\"I need Tables, Chairs, Cupboards.\"\n"
          ]
        }
      ],
      "source": [
        "statement = '\"I need Tables, Chairs, Cupboards.\"'\n",
        "print(statement)"
      ]
    },
    {
      "cell_type": "markdown",
      "source": [
        "Exercise 3:\n",
        "\n",
        "Concatenate the two string variables declared in Exercise 1 and Exercise 2."
      ],
      "metadata": {
        "id": "-_F548p0cm-Y"
      }
    },
    {
      "cell_type": "code",
      "source": [
        "concatenate_1 = comm+statement\n",
        "print(concatenate_1)"
      ],
      "metadata": {
        "id": "JEdJQUBkcUHe",
        "outputId": "f1ff3299-142d-4573-f573-64159124c197",
        "colab": {
          "base_uri": "https://localhost:8080/"
        }
      },
      "execution_count": 5,
      "outputs": [
        {
          "output_type": "stream",
          "name": "stdout",
          "text": [
            "she enquired, \"What help do you want from me?\" to her neighbour.\"I need Tables, Chairs, Cupboards\"\n"
          ]
        }
      ]
    },
    {
      "cell_type": "markdown",
      "source": [
        "Exercise 4:\n",
        "\n",
        "Write a short note on any topic in python and print the note using single print statement."
      ],
      "metadata": {
        "id": "BsMn8suiZSMr"
      }
    },
    {
      "cell_type": "code",
      "source": [
        "note = \"Python variables once defined in a notebook can be used across all methods without explicitly using a class or similar structure\"\n",
        "print(note)"
      ],
      "metadata": {
        "id": "ndGfCaAMZEyj",
        "outputId": "a654bb44-679a-43a7-bfff-0531574eddc5",
        "colab": {
          "base_uri": "https://localhost:8080/"
        }
      },
      "execution_count": 6,
      "outputs": [
        {
          "output_type": "stream",
          "name": "stdout",
          "text": [
            "Python variables once defined in a notebook can be used across all methods without explicitly using a class or similar structure\n"
          ]
        }
      ]
    },
    {
      "cell_type": "markdown",
      "source": [
        "Exercise 5:\n",
        "\n",
        "* Concatenate the output of the string in Exercise 3 and output of the string in Exercise 1.\n",
        "* print the length of the concatenated string.\n",
        "* Check if the output of Exercise 1 appears in the new concatenated string."
      ],
      "metadata": {
        "id": "bpzOBwWjdUbO"
      }
    },
    {
      "cell_type": "code",
      "source": [
        "concatenate_2 = concatenate_1+comm\n",
        "print(len(concatenate_2))\n",
        "comm in concatenate_2"
      ],
      "metadata": {
        "id": "ScREMvsJd4Ig",
        "outputId": "35822de8-d93a-42eb-f8e3-cf31e468bfa3",
        "colab": {
          "base_uri": "https://localhost:8080/"
        }
      },
      "execution_count": 8,
      "outputs": [
        {
          "output_type": "stream",
          "name": "stdout",
          "text": [
            "162\n"
          ]
        },
        {
          "output_type": "execute_result",
          "data": {
            "text/plain": [
              "True"
            ]
          },
          "metadata": {},
          "execution_count": 8
        }
      ]
    },
    {
      "cell_type": "markdown",
      "source": [
        "## Lists\n",
        "\n",
        "A Python list is used to store the sequence of various types of data. They are mutable type i.e. we can modify its element/s after it is created. \n",
        "\n",
        "For more info, refer [here](https://www.w3schools.com/python/python_lists.asp)."
      ],
      "metadata": {
        "id": "yDkU-pVIh0is"
      }
    },
    {
      "cell_type": "markdown",
      "source": [
        "* Declare a 'List' of positive integers in one variable.\n",
        "* Declare a 'List' of positive floating point values in another variable.\n",
        "* Declare a 'List' of individual string entries from Exercise 1.\n",
        "* Declare another 'List' which is a union of all the other three lists. \n"
      ],
      "metadata": {
        "id": "c2yrVogdiJrm"
      }
    },
    {
      "cell_type": "code",
      "source": [
        "list1 = [1,2,3,4,5,6,7,8]\n",
        "list2 = [5.1, 7.2, 8, 9, 0,2]\n",
        "exercise_1 = [\"Tables\", \"Chairs\", \"Classroom\", \"School\"]\n",
        "union_list = [1,2,3,4,5,6,7,8, 5.1, 7.2, 8, 9, 0,2, \"Tables\", \"Chairs\", \"Classroom\", \"School\"]"
      ],
      "metadata": {
        "id": "mcgm8MBDcC_q"
      },
      "execution_count": 12,
      "outputs": []
    },
    {
      "cell_type": "markdown",
      "source": [
        "Exercise 6:\n",
        "\n",
        "* What is the value of 5th index in union \"List'\n",
        "* What is the length of the union 'List'\n",
        "* What is the maximum value in positive floating point 'List'\n",
        "* What is the sum of positive integers in first 'List' "
      ],
      "metadata": {
        "id": "HKpNRol-jhnK"
      }
    },
    {
      "cell_type": "code",
      "source": [
        "print(union_list[4])\n",
        "print(len(union_list))\n",
        "print(max(list2))\n",
        "print(sum(list1))"
      ],
      "metadata": {
        "id": "_X_eN4jPjbat",
        "outputId": "eb11f89f-0c6f-4168-c334-988f1b1d0d01",
        "colab": {
          "base_uri": "https://localhost:8080/"
        }
      },
      "execution_count": 14,
      "outputs": [
        {
          "output_type": "stream",
          "name": "stdout",
          "text": [
            "5\n",
            "18\n",
            "9\n",
            "36\n"
          ]
        }
      ]
    },
    {
      "cell_type": "markdown",
      "source": [
        "## Python 'For' Loops\n",
        "A for loop is used for iterating over a sequence (that is either a list, a tuple, a dictionary, a set, or a string).\n",
        "\n",
        "For more information, refer [here](https://www.w3schools.com/python/python_for_loops.asp)."
      ],
      "metadata": {
        "id": "AHkrnwnzkurp"
      }
    },
    {
      "cell_type": "markdown",
      "source": [
        "Exercise 7:\n",
        "\n",
        "Iterate over the union list in exercise 6 using 'for' loop and print all the individual elements of the 'List'"
      ],
      "metadata": {
        "id": "CB6ggPJVogFJ"
      }
    },
    {
      "cell_type": "code",
      "source": [
        "for item in union_list:\n",
        "  print(item)"
      ],
      "metadata": {
        "id": "r34CPN72kPwU",
        "outputId": "47b8d0d6-08d6-4db4-ab8c-64bd6f4013fc",
        "colab": {
          "base_uri": "https://localhost:8080/"
        }
      },
      "execution_count": 15,
      "outputs": [
        {
          "output_type": "stream",
          "name": "stdout",
          "text": [
            "1\n",
            "2\n",
            "3\n",
            "4\n",
            "5\n",
            "6\n",
            "7\n",
            "8\n",
            "5.1\n",
            "7.2\n",
            "8\n",
            "9\n",
            "0\n",
            "2\n",
            "Tables\n",
            "Chairs\n",
            "Classroom\n",
            "School\n"
          ]
        }
      ]
    },
    {
      "cell_type": "markdown",
      "source": [
        "Exercise 8:\n",
        "\n",
        "* Define a string variable.\n",
        "* Iterate through all the individual characters of the string.\n",
        "* Print all the characters."
      ],
      "metadata": {
        "id": "X1fnXaJerCZs"
      }
    },
    {
      "cell_type": "code",
      "source": [
        "str = \"IamAStringVariable\"\n",
        "for char in str:\n",
        "  print(char)"
      ],
      "metadata": {
        "id": "PzgUW6A-oyw8",
        "outputId": "58ee2166-521c-4f78-8427-b24ad5faee22",
        "colab": {
          "base_uri": "https://localhost:8080/"
        }
      },
      "execution_count": 18,
      "outputs": [
        {
          "output_type": "stream",
          "name": "stdout",
          "text": [
            "I\n",
            "a\n",
            "m\n",
            "A\n",
            "S\n",
            "t\n",
            "r\n",
            "i\n",
            "n\n",
            "g\n",
            "V\n",
            "a\n",
            "r\n",
            "i\n",
            "a\n",
            "b\n",
            "l\n",
            "e\n"
          ]
        }
      ]
    },
    {
      "cell_type": "markdown",
      "source": [
        "Exercise 9:\n",
        "\n",
        "* Append the positive list defined in Exercise 6 with a value 2.\n",
        "* Print the appended list.\n",
        "* Extend the positive list defined in Exercise 6 with a floating point list defined in Exercise 6.\n",
        "* Print the extended list."
      ],
      "metadata": {
        "id": "BRY6q88PsROM"
      }
    },
    {
      "cell_type": "code",
      "source": [
        "list1.append(2)\n",
        "print(list1)\n",
        "list1+=list2\n",
        "print(list1)"
      ],
      "metadata": {
        "id": "AsRl384trh3m",
        "outputId": "1fcce5e6-7e77-4720-edc4-f34699513b65",
        "colab": {
          "base_uri": "https://localhost:8080/"
        }
      },
      "execution_count": 17,
      "outputs": [
        {
          "output_type": "stream",
          "name": "stdout",
          "text": [
            "[1, 2, 3, 4, 5, 6, 7, 8, 2]\n",
            "[1, 2, 3, 4, 5, 6, 7, 8, 2, 5.1, 7.2, 8, 9, 0, 2]\n"
          ]
        }
      ]
    },
    {
      "cell_type": "markdown",
      "source": [
        "Exercise 10:\n",
        "* Print the length of the string list defined in Exercise 8.\n",
        "* Print all the characters of this string from 10th index to 20th index."
      ],
      "metadata": {
        "id": "8eejpaZluDLy"
      }
    },
    {
      "cell_type": "code",
      "source": [
        "print(len(str))\n",
        "print(str[9:20])\n",
        "for char in str[9:20]:\n",
        "  print(char)"
      ],
      "metadata": {
        "id": "gzmVs95suUdm",
        "outputId": "1b6caae9-2f77-4f81-fed0-1cefb354a65b",
        "colab": {
          "base_uri": "https://localhost:8080/"
        }
      },
      "execution_count": 20,
      "outputs": [
        {
          "output_type": "stream",
          "name": "stdout",
          "text": [
            "18\n",
            "gVariable\n",
            "g\n",
            "V\n",
            "a\n",
            "r\n",
            "i\n",
            "a\n",
            "b\n",
            "l\n",
            "e\n"
          ]
        }
      ]
    },
    {
      "cell_type": "markdown",
      "source": [
        "## Python 'While' loops\n",
        "The while loop allows the execution of a set of statements as long as a condition is true.\n",
        "\n",
        "For more information, refer [here](https://www.w3schools.com/python/python_while_loops.asp)."
      ],
      "metadata": {
        "id": "85QHokZuWB5e"
      }
    },
    {
      "cell_type": "markdown",
      "source": [
        "Exercise 11:\n",
        "* Write a while loop statement to print the following series:\n",
        "5, 10, 15, 20, __ __ 100"
      ],
      "metadata": {
        "id": "1O2GNjDWXPgx"
      }
    },
    {
      "cell_type": "code",
      "source": [
        "n=5\n",
        "list=[]\n",
        "while (n<=100):\n",
        "  list.append(n)\n",
        "  n=n+5\n",
        "print(list)\n",
        "\n"
      ],
      "metadata": {
        "id": "l5OEHxXYYNln",
        "outputId": "fbea7ddb-ce71-4479-f7ea-b28d23ec2e68",
        "colab": {
          "base_uri": "https://localhost:8080/"
        }
      },
      "execution_count": 25,
      "outputs": [
        {
          "output_type": "stream",
          "name": "stdout",
          "text": [
            "[5, 10, 15, 20, 25, 30, 35, 40, 45, 50, 55, 60, 65, 70, 75, 80, 85, 90, 95, 100]\n"
          ]
        }
      ]
    },
    {
      "cell_type": "markdown",
      "source": [
        "For more Exercises, refer to: https://docs.python-guide.org/intro/learning/"
      ],
      "metadata": {
        "id": "AeX5DTA_sC1x"
      }
    }
  ]
}