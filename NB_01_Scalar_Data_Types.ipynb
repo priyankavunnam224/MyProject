{
  "nbformat": 4,
  "nbformat_minor": 0,
  "metadata": {
    "colab": {
      "name": "NB_01_Scalar_Data_Types.ipynb",
      "provenance": [],
      "collapsed_sections": [],
      "include_colab_link": true
    },
    "kernelspec": {
      "name": "python3",
      "display_name": "Python 3"
    },
    "language_info": {
      "name": "python"
    }
  },
  "cells": [
    {
      "cell_type": "markdown",
      "metadata": {
        "id": "view-in-github",
        "colab_type": "text"
      },
      "source": [
        "<a href=\"https://colab.research.google.com/github/priyankavunnam224/MyProject/blob/master/NB_01_Scalar_Data_Types.ipynb\" target=\"_parent\"><img src=\"https://colab.research.google.com/assets/colab-badge.svg\" alt=\"Open In Colab\"/></a>"
      ]
    },
    {
      "cell_type": "markdown",
      "source": [
        "## Practice Notebook:"
      ],
      "metadata": {
        "id": "IflWtXgiIa4D"
      }
    },
    {
      "cell_type": "markdown",
      "source": [
        "## Scalar Data Types and Operations\n",
        "Python has four scalar data types:\n",
        "  * Integer\n",
        "  * Float\n",
        "  * Boolean\n",
        "  * Complex"
      ],
      "metadata": {
        "id": "QIhtW_lUImE1"
      }
    },
    {
      "cell_type": "markdown",
      "source": [
        "#### Integers"
      ],
      "metadata": {
        "id": "xeFGxMdWIyvb"
      }
    },
    {
      "cell_type": "markdown",
      "source": [
        "Perform [arithmetic operations](https://realpython.com/python-operators-expressions/#arithmetic-operators): \n",
        "* (+) for addition \n",
        "* (-) for subtraction \n",
        "* (*) for multiplication\n",
        "* (/) for floating divide\n",
        "* (//) for integer divide\n",
        "* (**) for exponential "
      ],
      "metadata": {
        "id": "9QwUuqFlLGck"
      }
    },
    {
      "cell_type": "markdown",
      "source": [
        "Print sum of 8 and 3"
      ],
      "metadata": {
        "id": "sKR3O1XKLqPj"
      }
    },
    {
      "cell_type": "code",
      "execution_count": 26,
      "metadata": {
        "id": "Aub9rVLnalky",
        "colab": {
          "base_uri": "https://localhost:8080/"
        },
        "outputId": "ab70e119-105a-43d5-850f-ce0ef1107e1e"
      },
      "outputs": [
        {
          "output_type": "execute_result",
          "data": {
            "text/plain": [
              "11"
            ]
          },
          "metadata": {},
          "execution_count": 26
        }
      ],
      "source": [
        "8+3"
      ]
    },
    {
      "cell_type": "markdown",
      "source": [
        "Print the subtraction of smaller positive integer from larger positive integer:\n",
        "\n",
        "\n",
        "Eg: 8 - 2 "
      ],
      "metadata": {
        "id": "4a8-MNF5MGC4"
      }
    },
    {
      "cell_type": "code",
      "source": [
        "8-2"
      ],
      "metadata": {
        "id": "31CnBPdXMAL7",
        "colab": {
          "base_uri": "https://localhost:8080/"
        },
        "outputId": "b6edaf54-b4d3-4325-8bb7-bcb4d38bc9d0"
      },
      "execution_count": 27,
      "outputs": [
        {
          "output_type": "execute_result",
          "data": {
            "text/plain": [
              "6"
            ]
          },
          "metadata": {},
          "execution_count": 27
        }
      ]
    },
    {
      "cell_type": "markdown",
      "source": [
        "Print the subtraction of a larger positive integer from a smaller positive integer:\n",
        "\n",
        "\n",
        "Eg: 2 - 8 "
      ],
      "metadata": {
        "id": "3AR3_-baMaBM"
      }
    },
    {
      "cell_type": "code",
      "source": [
        "2-8"
      ],
      "metadata": {
        "id": "WtXbFwz4MWug",
        "colab": {
          "base_uri": "https://localhost:8080/"
        },
        "outputId": "59327dcb-c21b-4245-e904-ad93f188abc6"
      },
      "execution_count": 28,
      "outputs": [
        {
          "output_type": "execute_result",
          "data": {
            "text/plain": [
              "-6"
            ]
          },
          "metadata": {},
          "execution_count": 28
        }
      ]
    },
    {
      "cell_type": "markdown",
      "source": [
        "Print multiplication of any two positive integers."
      ],
      "metadata": {
        "id": "ClUMN3yoNtEK"
      }
    },
    {
      "cell_type": "code",
      "source": [
        "2*8"
      ],
      "metadata": {
        "id": "G20668Y2MlB5",
        "colab": {
          "base_uri": "https://localhost:8080/"
        },
        "outputId": "6b36efd9-21cb-4088-bcee-1caadc7d88e7"
      },
      "execution_count": 29,
      "outputs": [
        {
          "output_type": "execute_result",
          "data": {
            "text/plain": [
              "16"
            ]
          },
          "metadata": {},
          "execution_count": 29
        }
      ]
    },
    {
      "cell_type": "markdown",
      "source": [
        "Print multiplication of any two negative integers."
      ],
      "metadata": {
        "id": "TC-xJ13WOY0S"
      }
    },
    {
      "cell_type": "code",
      "source": [
        "-2*-8"
      ],
      "metadata": {
        "id": "z4aQPlvmOU9V",
        "colab": {
          "base_uri": "https://localhost:8080/"
        },
        "outputId": "cde6a5f1-4601-4e08-afe1-fdceab26ea72"
      },
      "execution_count": 30,
      "outputs": [
        {
          "output_type": "execute_result",
          "data": {
            "text/plain": [
              "16"
            ]
          },
          "metadata": {},
          "execution_count": 30
        }
      ]
    },
    {
      "cell_type": "markdown",
      "source": [
        "Print division of 18 by 3 such that the result is a float value."
      ],
      "metadata": {
        "id": "IlRhwMY_Ok7g"
      }
    },
    {
      "cell_type": "code",
      "source": [
        "18/3"
      ],
      "metadata": {
        "id": "Q7rmI0y0OdbP",
        "colab": {
          "base_uri": "https://localhost:8080/"
        },
        "outputId": "d36b4efb-3998-4f42-f738-d08c475f7eac"
      },
      "execution_count": 31,
      "outputs": [
        {
          "output_type": "execute_result",
          "data": {
            "text/plain": [
              "6.0"
            ]
          },
          "metadata": {},
          "execution_count": 31
        }
      ]
    },
    {
      "cell_type": "markdown",
      "source": [
        "Print division of 18 by 3 such that the result is an integer value."
      ],
      "metadata": {
        "id": "2xS550v2O-KM"
      }
    },
    {
      "cell_type": "code",
      "source": [
        "18%3"
      ],
      "metadata": {
        "id": "8TVOAx7VO5BC",
        "colab": {
          "base_uri": "https://localhost:8080/"
        },
        "outputId": "c2318aee-f1ed-47ff-a6a5-a732b48057aa"
      },
      "execution_count": 32,
      "outputs": [
        {
          "output_type": "execute_result",
          "data": {
            "text/plain": [
              "0"
            ]
          },
          "metadata": {},
          "execution_count": 32
        }
      ]
    },
    {
      "cell_type": "markdown",
      "source": [
        "Print Modulus of 18 and 5"
      ],
      "metadata": {
        "id": "D1K1HleBPOEB"
      }
    },
    {
      "cell_type": "code",
      "source": [
        "18%5"
      ],
      "metadata": {
        "id": "9Pp2YcXxPEQS",
        "colab": {
          "base_uri": "https://localhost:8080/"
        },
        "outputId": "7ac9aa51-7386-47c5-b3d0-66f8c2085eec"
      },
      "execution_count": 33,
      "outputs": [
        {
          "output_type": "execute_result",
          "data": {
            "text/plain": [
              "3"
            ]
          },
          "metadata": {},
          "execution_count": 33
        }
      ]
    },
    {
      "cell_type": "markdown",
      "source": [
        "Print a solution for 18 raised to the power of 5."
      ],
      "metadata": {
        "id": "4vyO6zjsPn9H"
      }
    },
    {
      "cell_type": "code",
      "source": [
        "18**5"
      ],
      "metadata": {
        "id": "r3MWlGT-PUFR",
        "colab": {
          "base_uri": "https://localhost:8080/"
        },
        "outputId": "7f00b757-e397-4c8d-f698-b215f0d28ed0"
      },
      "execution_count": 34,
      "outputs": [
        {
          "output_type": "execute_result",
          "data": {
            "text/plain": [
              "1889568"
            ]
          },
          "metadata": {},
          "execution_count": 34
        }
      ]
    },
    {
      "cell_type": "markdown",
      "source": [
        "Verify and print that Python follows usual [operator precedence rules](https://realpython.com/python-operators-expressions/#operator-precedence)."
      ],
      "metadata": {
        "id": "FwGcjThnQL13"
      }
    },
    {
      "cell_type": "code",
      "source": [
        "(2*3)+9-6+5/9"
      ],
      "metadata": {
        "id": "OPHKF7HpPxdH",
        "colab": {
          "base_uri": "https://localhost:8080/"
        },
        "outputId": "26e898a0-8347-4de3-edba-4365a186d445"
      },
      "execution_count": 42,
      "outputs": [
        {
          "output_type": "execute_result",
          "data": {
            "text/plain": [
              "9.555555555555555"
            ]
          },
          "metadata": {},
          "execution_count": 42
        }
      ]
    },
    {
      "cell_type": "markdown",
      "source": [
        "Demonstrate how parentheses can be used in Python to override the usual operator precedence rules."
      ],
      "metadata": {
        "id": "0vSnewDgQdJU"
      }
    },
    {
      "cell_type": "code",
      "source": [
        "(2-3)+9/6+5*9"
      ],
      "metadata": {
        "id": "9v50Cm1OQY_y",
        "colab": {
          "base_uri": "https://localhost:8080/"
        },
        "outputId": "5c3a69d2-58d6-425b-fa0f-95c1fc3c5285"
      },
      "execution_count": 45,
      "outputs": [
        {
          "output_type": "execute_result",
          "data": {
            "text/plain": [
              "45.5"
            ]
          },
          "metadata": {},
          "execution_count": 45
        }
      ]
    },
    {
      "cell_type": "markdown",
      "source": [
        "Verify that integers are not limited to any upper limit in python"
      ],
      "metadata": {
        "id": "HGwcThtMQ9zI"
      }
    },
    {
      "cell_type": "code",
      "source": [
        "a = 9999999999999 \n",
        "b = a ** 2\n",
        "# YOUR CODE HERE\n",
        "print(b)"
      ],
      "metadata": {
        "id": "opHbiio2Q5wv",
        "colab": {
          "base_uri": "https://localhost:8080/"
        },
        "outputId": "ba1cf563-e5d3-4d26-90e4-97e3f9519990"
      },
      "execution_count": 47,
      "outputs": [
        {
          "output_type": "stream",
          "name": "stdout",
          "text": [
            "99999999999980000000000001\n"
          ]
        }
      ]
    },
    {
      "cell_type": "markdown",
      "source": [
        "##### Assignment operators"
      ],
      "metadata": {
        "id": "JsDdczRWRhsv"
      }
    },
    {
      "cell_type": "markdown",
      "source": [
        "Assign two integer values to two variables. Demonstrate shorthand for $\\alpha = \\alpha \\odot \\beta$\n",
        "where $\\odot$ is any binary arithmetic operator."
      ],
      "metadata": {
        "id": "8ofnwcohSxZO"
      }
    },
    {
      "cell_type": "code",
      "source": [
        "# Assigning values to variables.\n",
        "alpha = 21\n",
        "beta = 52"
      ],
      "metadata": {
        "id": "6LaIUfohTgBa"
      },
      "execution_count": 21,
      "outputs": []
    },
    {
      "cell_type": "code",
      "source": [
        "# For Addition\n",
        "\n",
        "# Usual Notation\n",
        "alpha = alpha + beta\n",
        "print(alpha, beta)\n",
        "\n",
        "# Shorthand Notation\n",
        "alpha+=beta"
      ],
      "metadata": {
        "id": "p05Ij6xbRSHa",
        "colab": {
          "base_uri": "https://localhost:8080/"
        },
        "outputId": "9286c010-1539-4975-d884-e679008a9c7f"
      },
      "execution_count": 23,
      "outputs": [
        {
          "output_type": "stream",
          "name": "stdout",
          "text": [
            "73 52\n"
          ]
        }
      ]
    },
    {
      "cell_type": "code",
      "source": [
        "# For Subtraction\n",
        "\n",
        "# Usual Notation\n",
        "alpha = alpha - beta\n",
        "print(alpha, beta)\n",
        "\n",
        "# Shorthand Notation\n",
        "alpha-=beta"
      ],
      "metadata": {
        "id": "UFGzQ3DyTcHJ",
        "colab": {
          "base_uri": "https://localhost:8080/"
        },
        "outputId": "67276b56-4d55-4019-b3e2-f4014189b6a5"
      },
      "execution_count": 24,
      "outputs": [
        {
          "output_type": "stream",
          "name": "stdout",
          "text": [
            "73 52\n"
          ]
        }
      ]
    },
    {
      "cell_type": "code",
      "source": [
        "# For Multiplication\n",
        "\n",
        "# Usual Notation\n",
        "alpha = alpha * beta\n",
        "print(alpha, beta)\n",
        "\n",
        "# Shorthand Notation\n",
        "alpha*=beta"
      ],
      "metadata": {
        "id": "IT-lXUE8WeSb",
        "colab": {
          "base_uri": "https://localhost:8080/"
        },
        "outputId": "8e25c4b9-99c8-4de1-ec7a-cb8a90250729"
      },
      "execution_count": 25,
      "outputs": [
        {
          "output_type": "stream",
          "name": "stdout",
          "text": [
            "1092 52\n"
          ]
        }
      ]
    },
    {
      "cell_type": "markdown",
      "source": [
        "#### Boolean"
      ],
      "metadata": {
        "id": "92_hm5qEWtUO"
      }
    },
    {
      "cell_type": "markdown",
      "source": [
        "Given that alpha = 20 and beta = 33"
      ],
      "metadata": {
        "id": "lpDsi5AKW9Y8"
      }
    },
    {
      "cell_type": "markdown",
      "source": [
        "Write a boolean operator statement to check whether alpha is equal to beta"
      ],
      "metadata": {
        "id": "alwy0JLBXDRm"
      }
    },
    {
      "cell_type": "code",
      "source": [
        "alpha = 20\n",
        "beta = 33"
      ],
      "metadata": {
        "id": "xlPY5j2qXPZf"
      },
      "execution_count": 13,
      "outputs": []
    },
    {
      "cell_type": "code",
      "source": [
        "alpha==beta"
      ],
      "metadata": {
        "id": "TZwukpm_XMOb",
        "colab": {
          "base_uri": "https://localhost:8080/"
        },
        "outputId": "40293723-6c3b-4ece-9189-038a59f4b929"
      },
      "execution_count": 19,
      "outputs": [
        {
          "output_type": "execute_result",
          "data": {
            "text/plain": [
              "False"
            ]
          },
          "metadata": {},
          "execution_count": 19
        }
      ]
    },
    {
      "cell_type": "markdown",
      "source": [
        "Write a boolean operator statement to check whether alpha is equal to beta - 4"
      ],
      "metadata": {
        "id": "JliUZJD8Xk7X"
      }
    },
    {
      "cell_type": "code",
      "source": [
        "alpha==beta-4"
      ],
      "metadata": {
        "id": "w6fIOjcbXov1",
        "colab": {
          "base_uri": "https://localhost:8080/"
        },
        "outputId": "97490eea-935a-4b65-a793-8d8593c6eba9"
      },
      "execution_count": 18,
      "outputs": [
        {
          "output_type": "execute_result",
          "data": {
            "text/plain": [
              "False"
            ]
          },
          "metadata": {},
          "execution_count": 18
        }
      ]
    },
    {
      "cell_type": "markdown",
      "source": [
        "Write a boolean operator statement to check whether alpha is greater than beta"
      ],
      "metadata": {
        "id": "jb3xdwNoXtgj"
      }
    },
    {
      "cell_type": "code",
      "source": [
        "alpha>beta"
      ],
      "metadata": {
        "id": "xqfyEI47Xz0t",
        "colab": {
          "base_uri": "https://localhost:8080/"
        },
        "outputId": "783e004f-ed1d-410a-ba36-52b78815d98e"
      },
      "execution_count": 17,
      "outputs": [
        {
          "output_type": "execute_result",
          "data": {
            "text/plain": [
              "False"
            ]
          },
          "metadata": {},
          "execution_count": 17
        }
      ]
    },
    {
      "cell_type": "markdown",
      "source": [
        "Write a boolean operator statement to check whether alpha is less than or equal to beta"
      ],
      "metadata": {
        "id": "kY79uhPSX4uL"
      }
    },
    {
      "cell_type": "code",
      "source": [
        "alpha<=beta"
      ],
      "metadata": {
        "id": "7mwMEDgoX-BO",
        "colab": {
          "base_uri": "https://localhost:8080/"
        },
        "outputId": "350d30cb-36d8-49b5-9022-f0592837c716"
      },
      "execution_count": 16,
      "outputs": [
        {
          "output_type": "execute_result",
          "data": {
            "text/plain": [
              "True"
            ]
          },
          "metadata": {},
          "execution_count": 16
        }
      ]
    },
    {
      "cell_type": "markdown",
      "source": [
        "Write a boolean operator statement to check whether alpha is not equal to beta - 13"
      ],
      "metadata": {
        "id": "wADtkBAJYJD-"
      }
    },
    {
      "cell_type": "code",
      "source": [
        "alpha!=beta"
      ],
      "metadata": {
        "id": "4jujfdVYYRUG",
        "colab": {
          "base_uri": "https://localhost:8080/"
        },
        "outputId": "feb88a3e-11f8-4a0a-9595-98162e6e4f0e"
      },
      "execution_count": 15,
      "outputs": [
        {
          "output_type": "execute_result",
          "data": {
            "text/plain": [
              "True"
            ]
          },
          "metadata": {},
          "execution_count": 15
        }
      ]
    },
    {
      "cell_type": "markdown",
      "source": [
        "#### Float"
      ],
      "metadata": {
        "id": "NBrjmXxhYoY7"
      }
    },
    {
      "cell_type": "markdown",
      "source": [
        "Perform and print Addition, Subtraction, Multiplication, Division of two floating point values."
      ],
      "metadata": {
        "id": "ehTSvfSQaXgX"
      }
    },
    {
      "cell_type": "code",
      "source": [
        "alpha = 14.9\n",
        "beta = 25.9"
      ],
      "metadata": {
        "id": "QkRrkzlnYiXd"
      },
      "execution_count": 10,
      "outputs": []
    },
    {
      "cell_type": "code",
      "source": [
        "sum = alpha+beta\n",
        "subtraction = alpha-beta\n",
        "multiplication = alpha*beta\n",
        "division = alpha/beta"
      ],
      "metadata": {
        "id": "fzTGhlKqa2xA"
      },
      "execution_count": 11,
      "outputs": []
    },
    {
      "cell_type": "code",
      "source": [
        "print(f\"Addition {sum}, Subtraction {subtraction}, Multiplication {multiplication}, Division {division}\")"
      ],
      "metadata": {
        "id": "DCq5R8PjbV9J",
        "colab": {
          "base_uri": "https://localhost:8080/"
        },
        "outputId": "64547b38-9fa9-4415-fecc-c9a08a69c710"
      },
      "execution_count": 12,
      "outputs": [
        {
          "output_type": "stream",
          "name": "stdout",
          "text": [
            "Addition 40.8, Subtraction -10.999999999999998, Multiplication 385.90999999999997, Division 0.5752895752895754\n"
          ]
        }
      ]
    },
    {
      "cell_type": "markdown",
      "source": [
        "#### Complex"
      ],
      "metadata": {
        "id": "bduCtvCIcI4s"
      }
    },
    {
      "cell_type": "markdown",
      "source": [
        "Print imaginary and real part of a complex number, initialized in z variable."
      ],
      "metadata": {
        "id": "2-xbGs3Gd7wK"
      }
    },
    {
      "cell_type": "code",
      "source": [
        "z = 3 + 6j"
      ],
      "metadata": {
        "id": "dCTinFyVb-rF"
      },
      "execution_count": 4,
      "outputs": []
    },
    {
      "cell_type": "code",
      "source": [
        "print(f\"Real part of z is {z.real}\")\n",
        "print(f\"Imaginary part of z is {z.imag}\")"
      ],
      "metadata": {
        "id": "fhY-bARmeMue",
        "colab": {
          "base_uri": "https://localhost:8080/"
        },
        "outputId": "ae86a598-c472-4931-efb6-d7329b4f75d2"
      },
      "execution_count": 5,
      "outputs": [
        {
          "output_type": "stream",
          "name": "stdout",
          "text": [
            "Real part of z is 3.0\n",
            "Imaginary part of z is 6.0\n"
          ]
        }
      ]
    },
    {
      "cell_type": "markdown",
      "source": [
        "Calculate absolute value of the above initialized z"
      ],
      "metadata": {
        "id": "SCwczvi7eaZD"
      }
    },
    {
      "cell_type": "code",
      "source": [
        "a=z.real\n",
        "b=z.imag\n",
        "print(f\"Absolute value of z is {((a**2)+(b**2))**0.5}\")"
      ],
      "metadata": {
        "id": "BF4vbXmneZIN",
        "colab": {
          "base_uri": "https://localhost:8080/"
        },
        "outputId": "5b44a7fc-7cd7-4fd3-d690-ca043fa3dfb2"
      },
      "execution_count": 6,
      "outputs": [
        {
          "output_type": "stream",
          "name": "stdout",
          "text": [
            "Absolute value of z is 6.708203932499369\n"
          ]
        }
      ]
    },
    {
      "cell_type": "markdown",
      "source": [
        "# Problem Solving"
      ],
      "metadata": {
        "id": "AOC6DGa0o5bN"
      }
    },
    {
      "cell_type": "markdown",
      "source": [
        "Write a Python program to calculate the amount payable if money has been lent on simple interest.\n",
        "\n",
        "Principal = P, Rate of interest = R% per annum and Time = T years. \n",
        "\n",
        "Simple Interest (SI) = (P x R x T)/ 100.\n",
        "\n",
        "Amount payable = Principal + SI. \n",
        "\n",
        "P, R and T are given as input to the program."
      ],
      "metadata": {
        "id": "AIwZ45bTn7yi"
      }
    },
    {
      "cell_type": "code",
      "source": [
        "#Seek user input for Principal, Rate of interest and Time\n",
        "P = float(input('Enter the principal: '))\n",
        "R = float(input('Enter the rate of interest: '))\n",
        "T = int(input('Enter thenumber of years: '))\n",
        "#calculating simple interest\n",
        "SI = (P*R*T)/100\n",
        "#Amount payable = Principal + Simple Interest\n",
        "total = P+SI\n",
        "#Printing the total amount\n",
        "print(f'Total amount payable = {total}')"
      ],
      "metadata": {
        "id": "YPE9I1wen-9k",
        "colab": {
          "base_uri": "https://localhost:8080/"
        },
        "outputId": "d972ff48-704e-4478-ad6c-b941213e2245"
      },
      "execution_count": 3,
      "outputs": [
        {
          "output_type": "stream",
          "name": "stdout",
          "text": [
            "Enter the principal: 4360\n",
            "Enter the rate of interest: 4.5\n",
            "Enter thenumber of years: 4\n",
            "Total amount payable = 5144.8\n"
          ]
        }
      ]
    },
    {
      "cell_type": "markdown",
      "source": [
        "For more Exercises, refer to: https://docs.python-guide.org/intro/learning/"
      ],
      "metadata": {
        "id": "7ZXRLhofrOay"
      }
    }
  ]
}